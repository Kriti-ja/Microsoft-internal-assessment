{
 "cells": [
  {
   "cell_type": "code",
   "execution_count": 1,
   "id": "01f590b7-3645-4555-9d1f-7891ca212006",
   "metadata": {},
   "outputs": [],
   "source": [
    "import numpy as np\n"
   ]
  },
  {
   "cell_type": "code",
   "execution_count": 2,
   "id": "cbe96480-d294-4f22-b785-ff5cdcba7c50",
   "metadata": {},
   "outputs": [],
   "source": [
    "def initialize_centroids(X, k):\n",
    "#    Randomly initialize the centroids from the dataset.\n",
    "    indices = np.random.choice(X.shape[0], k, replace=False)\n",
    "    return X[indices]\n",
    "\n",
    "def compute_distances(X, centroids):\n",
    "    #Compute the distance between each point and the centroids.\n",
    "    distances = np.zeros((X.shape[0], centroids.shape[0]))\n",
    "    for i in range(centroids.shape[0]):\n",
    "        distances[:, i] = np.linalg.norm(X - centroids[i], axis=1)\n",
    "    return distances\n",
    "\n",
    "def assign_clusters(distances):\n",
    "#    Assign each point to the nearest centroid.\n",
    "    return np.argmin(distances, axis=1)\n",
    "\n",
    "def update_centroids(X, labels, k):\n",
    "    #Update the centroids based on the current assignment of points.\n",
    "    centroids = np.zeros((k, X.shape[1]))\n",
    "    for i in range(k):\n",
    "        centroids[i] = np.mean(X[labels == i], axis=0)\n",
    "    return centroids\n"
   ]
  },
  {
   "cell_type": "code",
   "execution_count": 3,
   "id": "0cc1d408-0f40-46dd-94b5-a7b5ff2f032e",
   "metadata": {},
   "outputs": [],
   "source": [
    "def k_means(X, k, max_iters=100, tol=1e-4):\n",
    "    #Perform K-means clustering.\n",
    "    \n",
    "    centroids = initialize_centroids(X, k)\n",
    "    for _ in range(max_iters):\n",
    "        old_centroids = centroids\n",
    "        distances = compute_distances(X, centroids)\n",
    "        labels = assign_clusters(distances)\n",
    "        centroids = update_centroids(X, labels, k)\n",
    "        if np.all(np.abs(centroids - old_centroids) < tol):\n",
    "            break\n",
    "    return centroids, labels\n"
   ]
  },
  {
   "cell_type": "code",
   "execution_count": 4,
   "id": "e855959f-794e-449b-b26a-9a50db403eef",
   "metadata": {},
   "outputs": [
    {
     "name": "stdout",
     "output_type": "stream",
     "text": [
      "Centroids:\n",
      " [[2.5 1. ]\n",
      " [2.5 4. ]]\n",
      "Labels:\n",
      " [0 1 0 0 1 0]\n"
     ]
    }
   ],
   "source": [
    "\n",
    "X = np.array([[1, 2], [1, 4], [1, 0],\n",
    "              [4, 2], [4, 4], [4, 0]])\n",
    "\n",
    "# Number of clusters\n",
    "k = 2\n",
    "\n",
    "# Perform K-means clustering\n",
    "centroids, labels = k_means(X, k)\n",
    "\n",
    "# Print the results\n",
    "print(\"Centroids:\\n\", centroids)\n",
    "print(\"Labels:\\n\", labels)\n"
   ]
  },
  {
   "cell_type": "code",
   "execution_count": null,
   "id": "040af9f9-ce14-4a42-b9c4-92a1e37414a2",
   "metadata": {},
   "outputs": [],
   "source": []
  }
 ],
 "metadata": {
  "kernelspec": {
   "display_name": "Python 3 (ipykernel)",
   "language": "python",
   "name": "python3"
  },
  "language_info": {
   "codemirror_mode": {
    "name": "ipython",
    "version": 3
   },
   "file_extension": ".py",
   "mimetype": "text/x-python",
   "name": "python",
   "nbconvert_exporter": "python",
   "pygments_lexer": "ipython3",
   "version": "3.11.7"
  }
 },
 "nbformat": 4,
 "nbformat_minor": 5
}

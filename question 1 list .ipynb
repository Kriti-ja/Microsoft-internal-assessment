{
 "cells": [
  {
   "cell_type": "markdown",
   "id": "25635bf7-c7c3-4bc3-a427-a745eaa69659",
   "metadata": {},
   "source": [
    "list comprehensions\n"
   ]
  },
  {
   "cell_type": "code",
   "execution_count": 1,
   "id": "ed91608b-4a57-48e8-9a28-bd0a4a47440b",
   "metadata": {},
   "outputs": [
    {
     "name": "stdout",
     "output_type": "stream",
     "text": [
      "[1, 2, 3, 4]\n",
      "[4, 16]\n"
     ]
    }
   ],
   "source": [
    "x=[1,2 ,3 ,4]\n",
    "squares=[i*i for i in x if i%2==0] \n",
    "\n",
    "print (x)\n",
    "\n",
    "print(squares)"
   ]
  }
 ],
 "metadata": {
  "kernelspec": {
   "display_name": "Python 3 (ipykernel)",
   "language": "python",
   "name": "python3"
  },
  "language_info": {
   "codemirror_mode": {
    "name": "ipython",
    "version": 3
   },
   "file_extension": ".py",
   "mimetype": "text/x-python",
   "name": "python",
   "nbconvert_exporter": "python",
   "pygments_lexer": "ipython3",
   "version": "3.11.7"
  }
 },
 "nbformat": 4,
 "nbformat_minor": 5
}

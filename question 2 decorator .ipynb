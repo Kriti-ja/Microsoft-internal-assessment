{
 "cells": [
  {
   "cell_type": "code",
   "execution_count": 1,
   "id": "f7bd4325-6685-460a-adad-0b4e617408f3",
   "metadata": {},
   "outputs": [],
   "source": [
    "import time\n",
    "from functools import wraps\n",
    "\n"
   ]
  },
  {
   "cell_type": "code",
   "execution_count": 2,
   "id": "de773910-354e-4133-873e-29f79f5003a3",
   "metadata": {},
   "outputs": [],
   "source": [
    "def execution_time(func):\n",
    "    @wraps(func)\n",
    "    def wrapper(*args, **kwargs):\n",
    "        start_time = time.time()\n",
    "        result = func(*args, **kwargs)\n",
    "        end_time = time.time()\n",
    "        executing_time = end_time - start_time\n",
    "        print(f\"Function '{func.__name__}' executed in {executing_time} seconds\")\n",
    "        return result\n",
    "    return wrapper\n"
   ]
  },
  {
   "cell_type": "code",
   "execution_count": 3,
   "id": "403c7ffb-d489-45dd-b2eb-fa8966cb0555",
   "metadata": {},
   "outputs": [],
   "source": [
    "@execution_time\n",
    "def add(c,b):\n",
    "    a=b+c\n",
    "    time.sleep(1)\n",
    "    print(\"Function executed.\")\n",
    "\n"
   ]
  },
  {
   "cell_type": "code",
   "execution_count": 4,
   "id": "890fc6ef-2a98-4382-ad10-603f43303114",
   "metadata": {},
   "outputs": [
    {
     "name": "stdout",
     "output_type": "stream",
     "text": [
      "Function executed.\n",
      "Function 'add' executed in 1.0045568943023682 seconds\n"
     ]
    }
   ],
   "source": [
    "add(4,5)"
   ]
  },
  {
   "cell_type": "code",
   "execution_count": null,
   "id": "b10ec62d-3403-4d03-8360-52e79704aa07",
   "metadata": {},
   "outputs": [],
   "source": []
  }
 ],
 "metadata": {
  "kernelspec": {
   "display_name": "Python 3 (ipykernel)",
   "language": "python",
   "name": "python3"
  },
  "language_info": {
   "codemirror_mode": {
    "name": "ipython",
    "version": 3
   },
   "file_extension": ".py",
   "mimetype": "text/x-python",
   "name": "python",
   "nbconvert_exporter": "python",
   "pygments_lexer": "ipython3",
   "version": "3.11.7"
  }
 },
 "nbformat": 4,
 "nbformat_minor": 5
}

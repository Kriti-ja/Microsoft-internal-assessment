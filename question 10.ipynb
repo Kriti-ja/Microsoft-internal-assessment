{
 "cells": [
  {
   "cell_type": "code",
   "execution_count": 1,
   "id": "0159acd0-829a-4e73-baac-05752fcee6c2",
   "metadata": {},
   "outputs": [],
   "source": [
    "import numpy as np\n",
    "import pandas as pd\n",
    "from sklearn.preprocessing import LabelEncoder, OneHotEncoder\n",
    "from sklearn.impute import SimpleImputer"
   ]
  },
  {
   "cell_type": "code",
   "execution_count": 2,
   "id": "3524d7fa-7049-41a0-992c-3948698b8662",
   "metadata": {},
   "outputs": [],
   "source": [
    "# Sample data\n",
    "data = {\n",
    "    'Age': [25, 30, np.nan, 35, 40],\n",
    "    'Salary': [50000, 54000,  np.nan, 60000, 62000],\n",
    "    'Country': ['USA', 'Canada',np.nan, 'USA', 'Canada'],\n",
    "    'Purchased': ['No', 'Yes', 'No', 'Yes', np.nan]\n",
    "}"
   ]
  },
  {
   "cell_type": "code",
   "execution_count": 4,
   "id": "7d8bd7c6-8e00-4888-b933-fb3f39cf3133",
   "metadata": {},
   "outputs": [
    {
     "name": "stdout",
     "output_type": "stream",
     "text": [
      "Original DataFrame:\n",
      "     Age   Salary Country Purchased\n",
      "0  25.0  50000.0     USA        No\n",
      "1  30.0  54000.0  Canada       Yes\n",
      "2   NaN      NaN     NaN        No\n",
      "3  35.0  60000.0     USA       Yes\n",
      "4  40.0  62000.0  Canada       NaN\n"
     ]
    }
   ],
   "source": [
    "d = pd.DataFrame(data)\n",
    "print(\"Original DataFrame:\\n\", d)"
   ]
  },
  {
   "cell_type": "code",
   "execution_count": 5,
   "id": "cf81275c-3234-46f1-9c0e-d380dfbbaa1f",
   "metadata": {},
   "outputs": [],
   "source": [
    "# Handling missing values\n",
    "# Impute missing values for numerical columns with the mean\n",
    "imputer = SimpleImputer(strategy='mean')\n",
    "d[['Age', 'Salary']] = imputer.fit_transform(d[['Age', 'Salary']])\n"
   ]
  },
  {
   "cell_type": "code",
   "execution_count": 6,
   "id": "ef517595-c8f2-429b-bd27-001af9f1e13e",
   "metadata": {},
   "outputs": [],
   "source": [
    "# Impute missing values for categorical columns with the most frequent value\n",
    "imputer = SimpleImputer(strategy='most_frequent')\n",
    "d[['Country', 'Purchased']] = imputer.fit_transform(d[['Country', 'Purchased']])\n"
   ]
  },
  {
   "cell_type": "code",
   "execution_count": 7,
   "id": "892cd8cc-044a-477c-bd53-b1f881ab534a",
   "metadata": {},
   "outputs": [
    {
     "name": "stdout",
     "output_type": "stream",
     "text": [
      "\n",
      "DataFrame after handling missing values:\n",
      "     Age   Salary Country Purchased\n",
      "0  25.0  50000.0     USA        No\n",
      "1  30.0  54000.0  Canada       Yes\n",
      "2  32.5  56500.0  Canada        No\n",
      "3  35.0  60000.0     USA       Yes\n",
      "4  40.0  62000.0  Canada        No\n"
     ]
    }
   ],
   "source": [
    "print(\"\\nDataFrame after handling missing values:\\n\", d)"
   ]
  },
  {
   "cell_type": "code",
   "execution_count": 8,
   "id": "6447ef3b-12eb-4e44-9afa-f82563dbf5c6",
   "metadata": {},
   "outputs": [],
   "source": [
    "# Handling categorical data\n",
    "# Label Encoding for the 'Purchased' column\n",
    "label_encoder = LabelEncoder()\n",
    "d['Purchased'] = label_encoder.fit_transform(d['Purchased'])"
   ]
  },
  {
   "cell_type": "code",
   "execution_count": 9,
   "id": "2324e23d-4fe8-4b57-86ed-e55af52a627e",
   "metadata": {},
   "outputs": [
    {
     "name": "stderr",
     "output_type": "stream",
     "text": [
      "C:\\Users\\RCAT\\anaconda3\\Lib\\site-packages\\sklearn\\preprocessing\\_encoders.py:868: FutureWarning: `sparse` was renamed to `sparse_output` in version 1.2 and will be removed in 1.4. `sparse_output` is ignored unless you leave `sparse` to its default value.\n",
      "  warnings.warn(\n"
     ]
    }
   ],
   "source": [
    "# One-Hot Encoding for the 'Country' column\n",
    "one_hot_encoder = OneHotEncoder(drop='first', sparse=False)\n",
    "country_encoded = one_hot_encoder.fit_transform(d[['Country']])\n"
   ]
  },
  {
   "cell_type": "code",
   "execution_count": 10,
   "id": "ee516c28-5bb3-4121-8ed1-d96c09c5923a",
   "metadata": {},
   "outputs": [],
   "source": [
    "# Create a DataFrame from the one-hot encoded columns and concatenate with the original DataFrame\n",
    "country_df = pd.DataFrame(country_encoded, columns=one_hot_encoder.get_feature_names_out(['Country']))\n",
    "df = pd.concat([d, country_df], axis=1).drop(['Country'], axis=1)\n"
   ]
  },
  {
   "cell_type": "code",
   "execution_count": 11,
   "id": "ccc23f94-0781-47b0-a402-0251a2b22d4a",
   "metadata": {},
   "outputs": [
    {
     "name": "stdout",
     "output_type": "stream",
     "text": [
      "\n",
      "DataFrame after handling categorical data:\n",
      "     Age   Salary  Purchased  Country_USA\n",
      "0  25.0  50000.0          0          1.0\n",
      "1  30.0  54000.0          1          0.0\n",
      "2  32.5  56500.0          0          0.0\n",
      "3  35.0  60000.0          1          1.0\n",
      "4  40.0  62000.0          0          0.0\n"
     ]
    }
   ],
   "source": [
    "print(\"\\nDataFrame after handling categorical data:\\n\", df)\n"
   ]
  },
  {
   "cell_type": "code",
   "execution_count": null,
   "id": "727f4d73-5607-485d-baa1-f25b53ee117b",
   "metadata": {},
   "outputs": [],
   "source": []
  },
  {
   "cell_type": "code",
   "execution_count": null,
   "id": "e293a247-a418-4bdb-8dcd-a41e38e9e3e1",
   "metadata": {},
   "outputs": [],
   "source": []
  },
  {
   "cell_type": "code",
   "execution_count": null,
   "id": "99db2ab6-c77e-40b8-b77f-7154d07ca3c8",
   "metadata": {},
   "outputs": [],
   "source": []
  }
 ],
 "metadata": {
  "kernelspec": {
   "display_name": "Python 3 (ipykernel)",
   "language": "python",
   "name": "python3"
  },
  "language_info": {
   "codemirror_mode": {
    "name": "ipython",
    "version": 3
   },
   "file_extension": ".py",
   "mimetype": "text/x-python",
   "name": "python",
   "nbconvert_exporter": "python",
   "pygments_lexer": "ipython3",
   "version": "3.11.7"
  }
 },
 "nbformat": 4,
 "nbformat_minor": 5
}

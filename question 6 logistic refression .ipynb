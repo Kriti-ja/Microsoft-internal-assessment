{
 "cells": [
  {
   "cell_type": "code",
   "execution_count": 1,
   "id": "96f9d9f4-5742-4e79-8dc7-82761cffb18d",
   "metadata": {},
   "outputs": [],
   "source": [
    "import numpy as np\n"
   ]
  },
  {
   "cell_type": "code",
   "execution_count": 2,
   "id": "63d96725-228a-4214-a261-0968ff6a011c",
   "metadata": {},
   "outputs": [],
   "source": [
    "def sigmoid(z):\n",
    "    return 1 / (1 + np.exp(-z))\n"
   ]
  },
  {
   "cell_type": "code",
   "execution_count": 3,
   "id": "10876801-d393-461d-9c40-d3234144ef68",
   "metadata": {},
   "outputs": [],
   "source": [
    "def cost_function(theta, X, y):\n",
    "    m = len(y)\n",
    "    h = sigmoid(np.dot(X, theta))\n",
    "    epsilon = 1e-5  # to avoid log(0)\n",
    "    cost = (-1/m) * (np.dot(y, np.log(h + epsilon)) + np.dot(1 - y, np.log(1 - h + epsilon)))\n",
    "    return cost\n"
   ]
  },
  {
   "cell_type": "code",
   "execution_count": 4,
   "id": "4f415fb3-1616-46e2-87e8-f9ff14b21d97",
   "metadata": {},
   "outputs": [
    {
     "name": "stdout",
     "output_type": "stream",
     "text": [
      "Cost: 0.6931271807599427\n"
     ]
    }
   ],
   "source": [
    "\n",
    "X = np.array([[1, 2], [1, 3], [1, 4], [1, 5]])  \n",
    "y = np.array([0, 0, 1, 1])\n",
    "theta = np.zeros(X.shape[1])\n",
    "\n",
    "# Calculate the cost\n",
    "cost = cost_function(theta, X, y)\n",
    "print(\"Cost:\", cost)\n"
   ]
  },
  {
   "cell_type": "code",
   "execution_count": null,
   "id": "0d7f86ce-4194-4e1a-8908-ebfa04e23c22",
   "metadata": {},
   "outputs": [],
   "source": []
  }
 ],
 "metadata": {
  "kernelspec": {
   "display_name": "Python 3 (ipykernel)",
   "language": "python",
   "name": "python3"
  },
  "language_info": {
   "codemirror_mode": {
    "name": "ipython",
    "version": 3
   },
   "file_extension": ".py",
   "mimetype": "text/x-python",
   "name": "python",
   "nbconvert_exporter": "python",
   "pygments_lexer": "ipython3",
   "version": "3.11.7"
  }
 },
 "nbformat": 4,
 "nbformat_minor": 5
}

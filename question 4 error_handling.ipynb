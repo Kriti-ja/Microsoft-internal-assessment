{
 "cells": [
  {
   "cell_type": "code",
   "execution_count": 4,
   "id": "0e4df82f-f399-48ed-9e0e-38a3f5f2a5c9",
   "metadata": {},
   "outputs": [
    {
     "name": "stdout",
     "output_type": "stream",
     "text": [
      "Error: The file 'text.txt' does not exist.\n"
     ]
    }
   ],
   "source": [
    "def file_read(file_address):\n",
    "    try:\n",
    "        with open(file_address, 'r') as file:\n",
    "            content = file.read()\n",
    "        return content\n",
    "    except FileNotFoundError:\n",
    "        return f\"Error: The file '{file_address}' does not exist.\"\n",
    "    except Exception as e:\n",
    "        return f\"An error occurred: {e}\"\n",
    "\n",
    "\n",
    "\n",
    "print(file_read('text.txt'))\n"
   ]
  },
  {
   "cell_type": "code",
   "execution_count": null,
   "id": "c6be2fb6-2004-4d14-8724-f415cda39837",
   "metadata": {},
   "outputs": [],
   "source": []
  }
 ],
 "metadata": {
  "kernelspec": {
   "display_name": "Python 3 (ipykernel)",
   "language": "python",
   "name": "python3"
  },
  "language_info": {
   "codemirror_mode": {
    "name": "ipython",
    "version": 3
   },
   "file_extension": ".py",
   "mimetype": "text/x-python",
   "name": "python",
   "nbconvert_exporter": "python",
   "pygments_lexer": "ipython3",
   "version": "3.11.7"
  }
 },
 "nbformat": 4,
 "nbformat_minor": 5
}

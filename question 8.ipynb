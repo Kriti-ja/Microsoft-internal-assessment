{
 "cells": [
  {
   "cell_type": "code",
   "execution_count": 1,
   "id": "4b5d2e57-8a33-4c9f-bddd-59a2e08bceb9",
   "metadata": {},
   "outputs": [],
   "source": [
    "import numpy as np "
   ]
  },
  {
   "cell_type": "code",
   "execution_count": 2,
   "id": "e6e70716-c632-4858-aa09-09167b9be1c8",
   "metadata": {},
   "outputs": [],
   "source": [
    "def compute_cost(X, y, theta):\n",
    "#   Computing the cost function for linear regression.\n",
    "    n = len(y)\n",
    "    prediction = X.dot(theta)\n",
    "    error = prediction - y\n",
    "    cost = (1 / (2 * n)) * np.sum(error ** 2)\n",
    "    return cost\n"
   ]
  },
  {
   "cell_type": "code",
   "execution_count": 3,
   "id": "c967edd5-f29f-4c2c-898e-79671cf6248f",
   "metadata": {},
   "outputs": [],
   "source": [
    "def compute_gradient(X, y, theta):\n",
    "\n",
    " #   Compute the gradient for linear regression.\n",
    "    n = len(y)\n",
    "    prediction = X.dot(theta)\n",
    "    error = prediction - y\n",
    "    gradient = (1 / n) * X.T.dot(error)\n",
    "    return gradient\n"
   ]
  },
  {
   "cell_type": "code",
   "execution_count": 4,
   "id": "94b07a91-9332-4ca0-9330-8bf437dc0863",
   "metadata": {},
   "outputs": [],
   "source": [
    "def gradient_descent(X, y, theta, learning_rate, num_iterations):\n",
    "   # Performing gradient descent to learn theta.\n",
    "    \n",
    "    cost_history = np.zeros(num_iterations)\n",
    "    \n",
    "    for i in range(num_iterations):\n",
    "        gradient = compute_gradient(X, y, theta)\n",
    "        theta = theta - learning_rate * gradient\n",
    "        cost_history[i] = compute_cost(X, y, theta)\n",
    "    \n",
    "    return theta, cost_history"
   ]
  },
  {
   "cell_type": "code",
   "execution_count": 5,
   "id": "08937c27-31c6-49c3-a131-eaffa9f03658",
   "metadata": {},
   "outputs": [],
   "source": [
    "# Sample data\n",
    "X = np.array([[1, 1], [1, 2], [1, 3], [1, 4]])  # Add a column of ones for the intercept term\n",
    "y = np.array([2, 2.5, 3.5, 5]).reshape(-1, 1)\n",
    "theta = np.zeros((X.shape[1], 1))\n"
   ]
  },
  {
   "cell_type": "code",
   "execution_count": 6,
   "id": "62ab09bc-3a8c-40c2-a7eb-9fbb71408238",
   "metadata": {},
   "outputs": [],
   "source": [
    "# Hyperparameters\n",
    "learning_rate = 0.01\n",
    "num_iterations = 1000\n"
   ]
  },
  {
   "cell_type": "code",
   "execution_count": 7,
   "id": "8f96a55e-cfb1-4781-bae6-2cf33f3a7c57",
   "metadata": {},
   "outputs": [],
   "source": [
    "# Perform gradient descent\n",
    "theta, cost_history = gradient_descent(X, y, theta, learning_rate, num_iterations)\n"
   ]
  },
  {
   "cell_type": "code",
   "execution_count": 8,
   "id": "d6052e75-8e17-4914-ac6f-f79e3d585849",
   "metadata": {},
   "outputs": [
    {
     "name": "stdout",
     "output_type": "stream",
     "text": [
      "Theta (parameters):\n",
      " [[0.66786863]\n",
      " [1.02793468]]\n",
      "Final cost: 0.03181329597718625\n"
     ]
    }
   ],
   "source": [
    "# Printing the results\n",
    "print(\"Theta (parameters):\\n\", theta)\n",
    "print(\"Final cost:\", cost_history[-1])"
   ]
  }
 ],
 "metadata": {
  "kernelspec": {
   "display_name": "Python 3 (ipykernel)",
   "language": "python",
   "name": "python3"
  },
  "language_info": {
   "codemirror_mode": {
    "name": "ipython",
    "version": 3
   },
   "file_extension": ".py",
   "mimetype": "text/x-python",
   "name": "python",
   "nbconvert_exporter": "python",
   "pygments_lexer": "ipython3",
   "version": "3.11.7"
  }
 },
 "nbformat": 4,
 "nbformat_minor": 5
}

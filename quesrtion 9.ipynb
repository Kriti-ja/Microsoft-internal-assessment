{
 "cells": [
  {
   "cell_type": "code",
   "execution_count": 1,
   "id": "24f84a02-ae33-4091-9166-df98dbf89cff",
   "metadata": {},
   "outputs": [],
   "source": [
    "import numpy as np "
   ]
  },
  {
   "cell_type": "code",
   "execution_count": 2,
   "id": "c382891d-3208-40c7-943e-cbd3f2e8415e",
   "metadata": {},
   "outputs": [
    {
     "name": "stdout",
     "output_type": "stream",
     "text": [
      "Reduced Data:\n",
      " [[ 0.82797019]\n",
      " [-1.77758033]\n",
      " [ 0.99219749]\n",
      " [ 0.27421042]\n",
      " [ 1.67580142]\n",
      " [ 0.9129491 ]\n",
      " [-0.09910944]\n",
      " [-1.14457216]\n",
      " [-0.43804614]\n",
      " [-1.22382056]]\n",
      "Eigenvalues:\n",
      " [1.28402771 0.0490834 ]\n",
      "Eigenvectors:\n",
      " [[ 0.6778734  -0.73517866]\n",
      " [ 0.73517866  0.6778734 ]]\n"
     ]
    }
   ],
   "source": [
    "def pca(X, num_components):\n",
    "\n",
    "    # Step 1: Standardize the data (mean-centered)\n",
    "    X_meaned = X - np.mean(X, axis=0)\n",
    "    \n",
    "    # Step 2: Compute the covariance matrix\n",
    "    covariance_matrix = np.cov(X_meaned, rowvar=False)\n",
    "    \n",
    "    # Step 3: Compute eigenvalues and eigenvectors\n",
    "    eigenvalues, eigenvectors = np.linalg.eigh(covariance_matrix)\n",
    "    \n",
    "    # Step 4: Sort eigenvalues and eigenvectors in descending order\n",
    "    sorted_index = np.argsort(eigenvalues)[::-1]\n",
    "    sorted_eigenvalues = eigenvalues[sorted_index]\n",
    "    sorted_eigenvectors = eigenvectors[:, sorted_index]\n",
    "    \n",
    "    # Step 5: Select the top 'num_components' eigenvectors\n",
    "    eigenvector_subset = sorted_eigenvectors[:, :num_components]\n",
    "    \n",
    "    # Step 6: Transform the data\n",
    "    X_reduced = np.dot(X_meaned, eigenvector_subset)\n",
    "    \n",
    "    return X_reduced, sorted_eigenvalues, sorted_eigenvectors\n",
    "\n",
    "# Example usage:\n",
    "# Sample data\n",
    "X = np.array([[2.5, 2.4],\n",
    "              [0.5, 0.7],\n",
    "              [2.2, 2.9],\n",
    "              [1.9, 2.2],\n",
    "              [3.1, 3.0],\n",
    "              [2.3, 2.7],\n",
    "              [2, 1.6],\n",
    "              [1, 1.1],\n",
    "              [1.5, 1.6],\n",
    "              [1.1, 0.9]])\n",
    "\n",
    "# Number of principal components\n",
    "num_components = 1\n",
    "\n",
    "# Perform PCA\n",
    "X_reduced, eigenvalues, eigenvectors = pca(X, num_components)\n",
    "\n",
    "# Print the results\n",
    "print(\"Reduced Data:\\n\", X_reduced)\n",
    "print(\"Eigenvalues:\\n\", eigenvalues)\n",
    "print(\"Eigenvectors:\\n\", eigenvectors)\n"
   ]
  },
  {
   "cell_type": "code",
   "execution_count": null,
   "id": "569b26e5-ab14-446e-a21f-df848238ab79",
   "metadata": {},
   "outputs": [],
   "source": []
  }
 ],
 "metadata": {
  "kernelspec": {
   "display_name": "Python 3 (ipykernel)",
   "language": "python",
   "name": "python3"
  },
  "language_info": {
   "codemirror_mode": {
    "name": "ipython",
    "version": 3
   },
   "file_extension": ".py",
   "mimetype": "text/x-python",
   "name": "python",
   "nbconvert_exporter": "python",
   "pygments_lexer": "ipython3",
   "version": "3.11.7"
  }
 },
 "nbformat": 4,
 "nbformat_minor": 5
}

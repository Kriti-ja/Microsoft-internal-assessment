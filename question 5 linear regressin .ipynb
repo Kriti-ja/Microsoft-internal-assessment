{
 "cells": [
  {
   "cell_type": "code",
   "execution_count": 1,
   "id": "647ae7e0-4356-468a-a3dc-98f1136ca9ec",
   "metadata": {},
   "outputs": [],
   "source": [
    "import numpy as np\n",
    "\n"
   ]
  },
  {
   "cell_type": "code",
   "execution_count": 2,
   "id": "4fc17a8c-ca2d-4f47-8907-715cbcb42092",
   "metadata": {},
   "outputs": [],
   "source": [
    "def compute_coefficients(X, y):\n",
    "   # Computing the coefficients (slope and intercept) for the linear regression line\n",
    "    n = len(X)\n",
    "    mean_X = np.mean(X)\n",
    "    mean_y = np.mean(y)\n",
    "    \n",
    "    # Calculating the slope (m)\n",
    "    numerator = np.sum((X - mean_X) * (y - mean_y))\n",
    "    denominator = np.sum((X - mean_X) ** 2)\n",
    "    m = numerator / denominator\n",
    "    \n",
    "    # Calculating the intercept (b)\n",
    "    b = mean_y - m * mean_X \n",
    "    return m, b\n",
    "    "
   ]
  },
  {
   "cell_type": "code",
   "execution_count": 3,
   "id": "12090501-9990-458d-972b-9ffa7dca9afe",
   "metadata": {},
   "outputs": [],
   "source": [
    "def predict(X, m, b):\n",
    "    #Predicting the output using the linear model.\n",
    "   \n",
    "    return m * X + b\n"
   ]
  },
  {
   "cell_type": "code",
   "execution_count": 4,
   "id": "3f16f84d-4cbd-4dd5-a2d5-5887c7978ab9",
   "metadata": {},
   "outputs": [],
   "source": [
    "def fit(X, y):\n",
    "    #Fitting the linear regression model to the data.\n",
    "\n",
    "    return compute_coefficients(X, y)"
   ]
  },
  {
   "cell_type": "code",
   "execution_count": 5,
   "id": "d299f901-f7ad-477b-ae5a-f302034b9524",
   "metadata": {},
   "outputs": [],
   "source": [
    "# Sample data\n",
    "X = np.array([1, 2, 3, 4, 5])\n",
    "y = np.array([2, 4, 5, 4, 5])\n"
   ]
  },
  {
   "cell_type": "code",
   "execution_count": 6,
   "id": "42950c60-9a19-4542-9e0e-d2a6d26bd60d",
   "metadata": {},
   "outputs": [],
   "source": [
    "# Fitting the model\n",
    "m, b = fit(X, y)"
   ]
  },
  {
   "cell_type": "code",
   "execution_count": 7,
   "id": "5d1f0dad-af45-461e-967d-027d76cd4dc3",
   "metadata": {},
   "outputs": [
    {
     "name": "stdout",
     "output_type": "stream",
     "text": [
      "Slope: 0.6, Intercept: 2.2\n"
     ]
    }
   ],
   "source": [
    "# Printing the coefficients\n",
    "print(f\"Slope: {m}, Intercept: {b}\")\n"
   ]
  },
  {
   "cell_type": "code",
   "execution_count": 8,
   "id": "e4c2b2e2-09d1-40ca-bff4-a6c2c88877ab",
   "metadata": {},
   "outputs": [
    {
     "name": "stdout",
     "output_type": "stream",
     "text": [
      "Predicted values: [2.8 3.4 4.  4.6 5.2]\n"
     ]
    }
   ],
   "source": [
    "# Predictimg the values\n",
    "predictions = predict(X, m, b)\n",
    "print(\"Predicted values:\", predictions)\n"
   ]
  },
  {
   "cell_type": "code",
   "execution_count": null,
   "id": "4ac25b5d-9a5a-44d4-946c-a6b3e28f4802",
   "metadata": {},
   "outputs": [],
   "source": []
  },
  {
   "cell_type": "code",
   "execution_count": null,
   "id": "6ac53f8f-0e00-4b37-9c50-f030e2ad9fdb",
   "metadata": {},
   "outputs": [],
   "source": []
  },
  {
   "cell_type": "code",
   "execution_count": null,
   "id": "be00326c-08e2-4056-894a-d3ba49bd8d3a",
   "metadata": {},
   "outputs": [],
   "source": []
  }
 ],
 "metadata": {
  "kernelspec": {
   "display_name": "Python 3 (ipykernel)",
   "language": "python",
   "name": "python3"
  },
  "language_info": {
   "codemirror_mode": {
    "name": "ipython",
    "version": 3
   },
   "file_extension": ".py",
   "mimetype": "text/x-python",
   "name": "python",
   "nbconvert_exporter": "python",
   "pygments_lexer": "ipython3",
   "version": "3.11.7"
  }
 },
 "nbformat": 4,
 "nbformat_minor": 5
}
